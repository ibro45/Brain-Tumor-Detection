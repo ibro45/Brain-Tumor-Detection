{
 "cells": [
  {
   "cell_type": "code",
   "execution_count": 1,
   "metadata": {},
   "outputs": [
    {
     "name": "stderr",
     "output_type": "stream",
     "text": [
      "C:\\Users\\Assa\\Anaconda3\\lib\\site-packages\\h5py\\__init__.py:36: FutureWarning: Conversion of the second argument of issubdtype from `float` to `np.floating` is deprecated. In future, it will be treated as `np.float64 == np.dtype(float).type`.\n",
      "  from ._conv import register_converters as _register_converters\n",
      "Using TensorFlow backend.\n"
     ]
    }
   ],
   "source": [
    "import cv2\n",
    "import numpy as np\n",
    "import matplotlib.pyplot as plt\n",
    "import pydicom as pdicom\n",
    "import os\n",
    "import pandas as pd\n",
    "import numpy as np\n",
    "\n",
    "from PIL import Image\n",
    "from collections import Counter\n",
    "from natsort import natsorted\n",
    "\n",
    "import keras\n",
    "from keras.preprocessing.image import array_to_img"
   ]
  },
  {
   "cell_type": "code",
   "execution_count": 12,
   "metadata": {},
   "outputs": [],
   "source": [
    "def findcorrandax(filenameDCM,axposition,padding,axcount,step):\n",
    "    ds = pdicom.read_file(filenameDCM) \n",
    "    corr_coef=np.zeros(int(axcount))\n",
    "    for k in range(0,int(axcount)):\n",
    "        axplace=int(axposition-(axcount/2*step)+step*k)\n",
    "        s=axplace-padding\n",
    "        r=int(int(ds.pixel_array.shape[0])-(axplace+padding))\n",
    "        lengthpic=2*int(np.minimum(s,r))\n",
    "        firsthalf=np.zeros((ds.pixel_array.shape[0],int(lengthpic/2)))\n",
    "        secondhalf=np.zeros((ds.pixel_array.shape[0],int(lengthpic/2)))\n",
    "        second=np.zeros((ds.pixel_array.shape[0],int(lengthpic/2))) \n",
    "        for col in range(0,int(lengthpic/2)):\n",
    "            firsthalf[:,col]= ds.pixel_array[:,col]\n",
    "        for col in range(int(lengthpic/2),int(lengthpic-1)):\n",
    "            second[:,int(col-int(lengthpic/2))]= ds.pixel_array[:,col]\n",
    "        secondhalf=np.flip(second,1)\n",
    "        corr_coef[k]=np.corrcoef(secondhalf.flatten(),firsthalf.flatten())[0,1]\n",
    "    bestcorr=corr_coef.max()\n",
    "    l=corr_coef.argmax()\n",
    "    axplace=int(axposition-(axcount/2*step)+step*l)\n",
    "    return bestcorr,axplace,corr_coef\n"
   ]
  },
  {
   "cell_type": "code",
   "execution_count": 3,
   "metadata": {},
   "outputs": [],
   "source": [
    "filenameDCM=\"C:/Users/Assa/git/junctionxbudapest/Dataset/386348/CT.386348.Image 5.dcm\"\n",
    "axposition=256\n",
    "padding=0"
   ]
  },
  {
   "cell_type": "code",
   "execution_count": 14,
   "metadata": {},
   "outputs": [
    {
     "data": {
      "text/plain": [
       "(0.7391594701814207, 256, array([0.73915947]))"
      ]
     },
     "execution_count": 14,
     "metadata": {},
     "output_type": "execute_result"
    }
   ],
   "source": [
    "findcorrandax(filenameDCM,axposition,padding,1,0)"
   ]
  },
  {
   "cell_type": "code",
   "execution_count": 13,
   "metadata": {},
   "outputs": [
    {
     "data": {
      "text/plain": [
       "(0.7105003937520054, 241, array([0.71050039]))"
      ]
     },
     "execution_count": 13,
     "metadata": {},
     "output_type": "execute_result"
    }
   ],
   "source": [
    "findcorrandax(filenameDCM,axposition,padding,1,30)"
   ]
  },
  {
   "cell_type": "code",
   "execution_count": null,
   "metadata": {},
   "outputs": [],
   "source": []
  }
 ],
 "metadata": {
  "kernelspec": {
   "display_name": "Python 3",
   "language": "python",
   "name": "python3"
  },
  "language_info": {
   "codemirror_mode": {
    "name": "ipython",
    "version": 3
   },
   "file_extension": ".py",
   "mimetype": "text/x-python",
   "name": "python",
   "nbconvert_exporter": "python",
   "pygments_lexer": "ipython3",
   "version": "3.6.5"
  }
 },
 "nbformat": 4,
 "nbformat_minor": 2
}
