{
 "cells": [
  {
   "cell_type": "code",
   "execution_count": 1,
   "metadata": {},
   "outputs": [
    {
     "name": "stderr",
     "output_type": "stream",
     "text": [
      "/home/ibrahimhadzic45/anaconda3/envs/tf/lib/python3.6/site-packages/dicom/__init__.py:53: UserWarning: \n",
      "This code is using an older version of pydicom, which is no longer \n",
      "maintained as of Jan 2017.  You can access the new pydicom features and API \n",
      "by installing `pydicom` from PyPI.\n",
      "See 'Transitioning to pydicom 1.x' section at pydicom.readthedocs.org \n",
      "for more information.\n",
      "\n",
      "  warnings.warn(msg)\n",
      "Using TensorFlow backend.\n"
     ]
    }
   ],
   "source": [
    "import cv2\n",
    "import gc\n",
    "import numpy as np\n",
    "import matplotlib.pyplot as plt\n",
    "import dicom as pdicom\n",
    "import os\n",
    "import pandas as pd\n",
    "import numpy as np\n",
    "import random\n",
    "\n",
    "\n",
    "from PIL import Image\n",
    "from collections import Counter\n",
    "from natsort import natsorted\n",
    "\n",
    "import tensorflow as tf\n",
    "import keras\n",
    "import keras.backend as K\n",
    "from keras.preprocessing.image import array_to_img, img_to_array, load_img\n",
    "\n",
    "### postavke za konfiguraciju\n",
    "config = tf.ConfigProto( device_count = {'GPU': 2 , 'CPU': 2} ) \n",
    "sess = tf.Session(config=config) \n",
    "keras.backend.set_session(sess)"
   ]
  },
  {
   "cell_type": "code",
   "execution_count": 2,
   "metadata": {},
   "outputs": [],
   "source": [
    "## list all dicom images\n",
    "dicom_path = \"VarianDataset\"\n",
    "lstFilesDCM = []  # create an empty list\n",
    "for dirName, subdirList, fileList in os.walk(dicom_path):\n",
    "    for filename in fileList:\n",
    "        if \".dcm\" in filename.lower():  # check whether the file's DICOM\n",
    "            lstFilesDCM.append(os.path.join(dirName,filename))"
   ]
  },
  {
   "cell_type": "code",
   "execution_count": 3,
   "metadata": {},
   "outputs": [],
   "source": [
    "# Gets ROI Numbers of contours for cancers only, ignoring other contours \n",
    "def get_cancer_contours_only(ROISequence):\n",
    "    cancers = []\n",
    "    for elem in ROISequence:\n",
    "        if \"POI\" in elem.ROIName:\n",
    "            continue\n",
    "        elif \"BODY\" in elem.ROIName:\n",
    "            continue\n",
    "        cancers.append([elem.ROIName, int(elem.ROINumber)])\n",
    "    return cancers"
   ]
  },
  {
   "cell_type": "code",
   "execution_count": 4,
   "metadata": {},
   "outputs": [],
   "source": [
    "# \n",
    "def uid_slicing_range(RS_elem):\n",
    "    return_list = []\n",
    "    beginning = 0\n",
    "    cancers   = get_cancer_contours_only(RS_elem.StructureSetROISequence)\n",
    "    \n",
    "    for elem in RS_elem.ROIContourSequence:\n",
    "        end = len(elem.ContourSequence) - 1\n",
    "        \n",
    "        for cancer in cancers:\n",
    "            if int(elem.ReferencedROINumber) == cancer[1]:\n",
    "                range_start = int(elem.ContourSequence[beginning].ContourData[2])\n",
    "                range_end   = int(elem.ContourSequence[end].ContourData[2])\n",
    "                \n",
    "                if range_start != range_end:\n",
    "                    ref_UID = RS_elem.ReferencedFrameOfReferenceSequence[0].FrameOfReferenceUID\n",
    "                    \n",
    "                    return_list.append([ref_UID, range_start, range_end])\n",
    "    \n",
    "    return return_list"
   ]
  },
  {
   "cell_type": "code",
   "execution_count": 5,
   "metadata": {},
   "outputs": [],
   "source": [
    "RS = []\n",
    "for elem in lstFilesDCM:\n",
    "    if \"RS\" not in elem:\n",
    "        continue\n",
    "    elif \"MR\" in elem:\n",
    "        continue\n",
    "    RS.append(pdicom.read_file(elem))"
   ]
  },
  {
   "cell_type": "code",
   "execution_count": 6,
   "metadata": {},
   "outputs": [],
   "source": [
    "slicing_list = []\n",
    "for RS_elem in RS:\n",
    "    try:\n",
    "        slicing_elem = uid_slicing_range(RS_elem)\n",
    "        if slicing_elem:\n",
    "            slicing_list.append(slicing_elem)\n",
    "    except AttributeError:\n",
    "        pass"
   ]
  },
  {
   "cell_type": "code",
   "execution_count": 7,
   "metadata": {
    "scrolled": true
   },
   "outputs": [
    {
     "name": "stdout",
     "output_type": "stream",
     "text": [
      "2860\n"
     ]
    },
    {
     "data": {
      "text/plain": [
       "Counter({(512, 512): 2860})"
      ]
     },
     "execution_count": 7,
     "metadata": {},
     "output_type": "execute_result"
    }
   ],
   "source": [
    "arr = []\n",
    "d = dict()\n",
    "\n",
    "# loop through all the DICOM files\n",
    "for filenameDCM in lstFilesDCM:\n",
    "    if \"Image\" not in filenameDCM:\n",
    "        continue\n",
    "    elif \"CT\" not in filenameDCM:\n",
    "        continue\n",
    "    \n",
    "    # read the file\n",
    "    ds = pdicom.read_file(filenameDCM)\n",
    "    arr.append(ds.pixel_array.shape)\n",
    "    shape = ds.pixel_array.shape\n",
    "    \n",
    "    if shape in d.keys():\n",
    "        d[shape].append(filenameDCM)\n",
    "    else:\n",
    "        d[shape] = [filenameDCM]\n",
    "\n",
    "print(len(arr))\n",
    "Counter(arr)"
   ]
  },
  {
   "cell_type": "code",
   "execution_count": 8,
   "metadata": {},
   "outputs": [],
   "source": [
    "# sorting the images the way they were scanned\n",
    "for key, value in d.items():\n",
    "    d[key] = natsorted(value)"
   ]
  },
  {
   "cell_type": "code",
   "execution_count": 9,
   "metadata": {},
   "outputs": [],
   "source": [
    "# Resizing with maintaining aspect ratio and adding padding if necessary\n",
    "\n",
    "def resize_pad_image(path):\n",
    "    im = pdicom.read_file(path).pixel_array\n",
    "    im = array_to_img(im.reshape(len(im), len(im[0]), -1))\n",
    "    \n",
    "    IMG_SIZE = 224      \n",
    "\n",
    "    new_size   = tuple([int(x*(float(IMG_SIZE)/max(im.size))) for x in im.size])\n",
    "    im_resized = im.resize(new_size, Image.ANTIALIAS)\n",
    "    new_im     = Image.new(\"L\", (IMG_SIZE, IMG_SIZE))\n",
    "    new_im.paste(im_resized, \n",
    "                 ((IMG_SIZE-new_size[0])//2,\n",
    "                  (IMG_SIZE-new_size[1])//2))\n",
    "\n",
    "    return np.array(new_im).reshape(224, 224, 1)"
   ]
  },
  {
   "cell_type": "code",
   "execution_count": 10,
   "metadata": {},
   "outputs": [],
   "source": [
    "data = []\n",
    "for key, value in d.items():\n",
    "    for img_path in natsorted(value):\n",
    "        metadata = pdicom.read_file(img_path)\n",
    "        \n",
    "        data.append([metadata, img_path, resize_pad_image(img_path)])"
   ]
  },
  {
   "cell_type": "code",
   "execution_count": 11,
   "metadata": {},
   "outputs": [],
   "source": [
    "def data_labelling(data, slicing_list):\n",
    "    return_data = []\n",
    "    for image_data in data:\n",
    "        img_metadata = image_data[0]\n",
    "        img_array    = image_data[2]\n",
    "        \n",
    "        for slicing_elems in slicing_list:\n",
    "            for elem in slicing_elems:\n",
    "                #print(img_metadata)\n",
    "                if elem[0] == img_metadata.FrameOfReferenceUID:\n",
    "                    range_start  = elem[1]\n",
    "                    range_end    = elem[2]\n",
    "                    # SliceLocation missing in some data, we have found out that \n",
    "                    # we can use ImagePositionPatient's last element since they're the same value\n",
    "                    img_location = int(img_metadata.ImagePositionPatient[-1]) \n",
    "\n",
    "                    if img_location >= range_start and img_location <= range_end:\n",
    "                        # oznacit sliku kao kancer\n",
    "                        return_data.append([img_array, 1])\n",
    "                    else:\n",
    "                        # oznacit kao ne\n",
    "                        return_data.append([img_array, 0])\n",
    "    return return_data"
   ]
  },
  {
   "cell_type": "code",
   "execution_count": 12,
   "metadata": {},
   "outputs": [],
   "source": [
    "data_for_neural_net = data_labelling(data, slicing_list)"
   ]
  },
  {
   "cell_type": "code",
   "execution_count": 13,
   "metadata": {},
   "outputs": [],
   "source": [
    "random.shuffle(data_for_neural_net)"
   ]
  },
  {
   "cell_type": "code",
   "execution_count": 14,
   "metadata": {},
   "outputs": [],
   "source": [
    "X = []\n",
    "y = []\n",
    "for image, label in data_for_neural_net:\n",
    "    #X.append(image)\n",
    "    X.append(np.stack((image.reshape(224,224),)*3, -1)) # making an RGB out of grayscale\n",
    "    y.append(label)"
   ]
  },
  {
   "cell_type": "code",
   "execution_count": 15,
   "metadata": {},
   "outputs": [
    {
     "data": {
      "text/plain": [
       "(4327, 2)"
      ]
     },
     "execution_count": 15,
     "metadata": {},
     "output_type": "execute_result"
    }
   ],
   "source": [
    "y = keras.utils.to_categorical(y)\n",
    "y.shape"
   ]
  },
  {
   "cell_type": "code",
   "execution_count": 16,
   "metadata": {},
   "outputs": [
    {
     "data": {
      "text/plain": [
       "(4327, 224, 224, 3)"
      ]
     },
     "execution_count": 16,
     "metadata": {},
     "output_type": "execute_result"
    }
   ],
   "source": [
    "#X = np.array(X).reshape(-1, 224, 224, 1)\n",
    "X = np.array(X).reshape(-1, 224, 224, 3)\n",
    "X = np.multiply(X, 1.0/255.0)\n",
    "X.shape"
   ]
  },
  {
   "cell_type": "code",
   "execution_count": 17,
   "metadata": {},
   "outputs": [],
   "source": [
    "#y = np.array(y).reshape(-1, 1)\n",
    "#y.shape"
   ]
  },
  {
   "cell_type": "code",
   "execution_count": 18,
   "metadata": {},
   "outputs": [],
   "source": [
    "from sklearn.model_selection import train_test_split\n",
    "X_train, X_test, y_train, y_test = train_test_split(X, y, test_size = 0.2)"
   ]
  },
  {
   "cell_type": "code",
   "execution_count": 19,
   "metadata": {},
   "outputs": [
    {
     "data": {
      "image/png": "[encoded data removed]",
      "text/plain": [
       "<PIL.Image.Image image mode=RGB size=224x224 at 0x7F74A8AF7160>"
      ]
     },
     "execution_count": 19,
     "metadata": {},
     "output_type": "execute_result"
    }
   ],
   "source": [
    "array_to_img(X_train[20])"
   ]
  },
  {
   "cell_type": "code",
   "execution_count": 32,
   "metadata": {},
   "outputs": [
    {
     "name": "stdout",
     "output_type": "stream",
     "text": [
      "_________________________________________________________________\n",
      "Layer (type)                 Output Shape              Param #   \n",
      "=================================================================\n",
      "input_3 (InputLayer)         (None, 224, 224, 3)       0         \n",
      "_________________________________________________________________\n",
      "block1_conv1 (Conv2D)        (None, 224, 224, 64)      1792      \n",
      "_________________________________________________________________\n",
      "block1_conv2 (Conv2D)        (None, 224, 224, 64)      36928     \n",
      "_________________________________________________________________\n",
      "block1_pool (MaxPooling2D)   (None, 112, 112, 64)      0         \n",
      "_________________________________________________________________\n",
      "block2_conv1 (Conv2D)        (None, 112, 112, 128)     73856     \n",
      "_________________________________________________________________\n",
      "block2_conv2 (Conv2D)        (None, 112, 112, 128)     147584    \n",
      "_________________________________________________________________\n",
      "block2_pool (MaxPooling2D)   (None, 56, 56, 128)       0         \n",
      "_________________________________________________________________\n",
      "block3_conv1 (Conv2D)        (None, 56, 56, 256)       295168    \n",
      "_________________________________________________________________\n",
      "block3_conv2 (Conv2D)        (None, 56, 56, 256)       590080    \n",
      "_________________________________________________________________\n",
      "block3_conv3 (Conv2D)        (None, 56, 56, 256)       590080    \n",
      "_________________________________________________________________\n",
      "block3_pool (MaxPooling2D)   (None, 28, 28, 256)       0         \n",
      "_________________________________________________________________\n",
      "block4_conv1 (Conv2D)        (None, 28, 28, 512)       1180160   \n",
      "_________________________________________________________________\n",
      "block4_conv2 (Conv2D)        (None, 28, 28, 512)       2359808   \n",
      "_________________________________________________________________\n",
      "block4_conv3 (Conv2D)        (None, 28, 28, 512)       2359808   \n",
      "_________________________________________________________________\n",
      "block4_pool (MaxPooling2D)   (None, 14, 14, 512)       0         \n",
      "_________________________________________________________________\n",
      "block5_conv1 (Conv2D)        (None, 14, 14, 512)       2359808   \n",
      "_________________________________________________________________\n",
      "block5_conv2 (Conv2D)        (None, 14, 14, 512)       2359808   \n",
      "_________________________________________________________________\n",
      "block5_conv3 (Conv2D)        (None, 14, 14, 512)       2359808   \n",
      "_________________________________________________________________\n",
      "block5_pool (MaxPooling2D)   (None, 7, 7, 512)         0         \n",
      "_________________________________________________________________\n",
      "flatten (Flatten)            (None, 25088)             0         \n",
      "_________________________________________________________________\n",
      "fc1 (Dense)                  (None, 2048)              51382272  \n",
      "_________________________________________________________________\n",
      "fc2 (Dense)                  (None, 2048)              4196352   \n",
      "_________________________________________________________________\n",
      "predictions (Dense)          (None, 2)                 4098      \n",
      "=================================================================\n",
      "Total params: 70,297,410\n",
      "Trainable params: 70,297,410\n",
      "Non-trainable params: 0\n",
      "_________________________________________________________________\n"
     ]
    },
    {
     "name": "stderr",
     "output_type": "stream",
     "text": [
      "/home/ibrahimhadzic45/anaconda3/envs/tf/lib/python3.6/site-packages/ipykernel_launcher.py:17: UserWarning: Update your `Model` call to the Keras 2 API: `Model(inputs=Tensor(\"in..., outputs=Tensor(\"pr...)`\n"
     ]
    }
   ],
   "source": [
    "from keras.applications import VGG16\n",
    "from keras.models import Model\n",
    "from keras.layers import Dense\n",
    "model = VGG16(weights='imagenet', include_top=True)\n",
    "\n",
    "# Generate a model with all layers (with top)\n",
    "\n",
    "#Add a layer where input is the output of the  second last layer \n",
    "model.layers.pop()\n",
    "model.layers.pop()\n",
    "model.layers.pop()\n",
    "x = Dense(2048, activation='relu', name='fc1')(model.layers[-1].output)\n",
    "x = Dense(2048, activation='relu', name='fc2')(x)\n",
    "x = Dense(2, activation='softmax', name='predictions')(x)\n",
    "\n",
    "#Then create the corresponding model \n",
    "model = Model(input=model.input, output=x)\n",
    "#for layer in model.layers[:-3]:\n",
    "#    layer.trainable = False\n",
    "model.summary()"
   ]
  },
  {
   "cell_type": "code",
   "execution_count": 33,
   "metadata": {},
   "outputs": [],
   "source": [
    "from keras.optimizers import SGD\n",
    "sgd = SGD(lr=0.001, decay=1e-6, momentum=0.9, nesterov=True)\n",
    "parallel_model = keras.utils.multi_gpu_model(model, gpus=2)\n",
    "parallel_model.compile( loss = \"categorical_crossentropy\", \n",
    "               optimizer = sgd, \n",
    "               metrics=['accuracy'])"
   ]
  },
  {
   "cell_type": "code",
   "execution_count": 34,
   "metadata": {},
   "outputs": [
    {
     "name": "stdout",
     "output_type": "stream",
     "text": [
      "Train on 3894 samples, validate on 433 samples\n",
      "Epoch 1/120\n",
      "3894/3894 [==============================] - 29s 7ms/step - loss: 0.2876 - acc: 0.9165 - val_loss: 0.2657 - val_acc: 0.9122\n",
      "Epoch 2/120\n",
      "3894/3894 [==============================] - 24s 6ms/step - loss: 0.2490 - acc: 0.9165 - val_loss: 0.2666 - val_acc: 0.9122\n",
      "Epoch 3/120\n",
      "3894/3894 [==============================] - 24s 6ms/step - loss: 0.2375 - acc: 0.9173 - val_loss: 0.2385 - val_acc: 0.9145\n",
      "Epoch 4/120\n",
      "3894/3894 [==============================] - 24s 6ms/step - loss: 0.2154 - acc: 0.9219 - val_loss: 0.2179 - val_acc: 0.9145\n",
      "Epoch 5/120\n",
      "3894/3894 [==============================] - 24s 6ms/step - loss: 0.2034 - acc: 0.9237 - val_loss: 0.1885 - val_acc: 0.9169\n",
      "Epoch 6/120\n",
      "3894/3894 [==============================] - 24s 6ms/step - loss: 0.1865 - acc: 0.9299 - val_loss: 0.1805 - val_acc: 0.9261\n",
      "Epoch 7/120\n",
      "3894/3894 [==============================] - 24s 6ms/step - loss: 0.1794 - acc: 0.9281 - val_loss: 0.1900 - val_acc: 0.9169\n",
      "Epoch 8/120\n",
      "3894/3894 [==============================] - 24s 6ms/step - loss: 0.1629 - acc: 0.9335 - val_loss: 0.1799 - val_acc: 0.9238\n",
      "Epoch 9/120\n",
      "3894/3894 [==============================] - 24s 6ms/step - loss: 0.1637 - acc: 0.9312 - val_loss: 0.1938 - val_acc: 0.9169\n",
      "Epoch 10/120\n",
      "3894/3894 [==============================] - 24s 6ms/step - loss: 0.1539 - acc: 0.9350 - val_loss: 0.2039 - val_acc: 0.9169\n",
      "Epoch 11/120\n",
      "3894/3894 [==============================] - 24s 6ms/step - loss: 0.1512 - acc: 0.9358 - val_loss: 0.2281 - val_acc: 0.9169\n",
      "Epoch 12/120\n",
      "3894/3894 [==============================] - 24s 6ms/step - loss: 0.1472 - acc: 0.9391 - val_loss: 0.1791 - val_acc: 0.9261\n",
      "Epoch 13/120\n",
      "3894/3894 [==============================] - 24s 6ms/step - loss: 0.1474 - acc: 0.9361 - val_loss: 0.1859 - val_acc: 0.9169\n",
      "Epoch 14/120\n",
      "3894/3894 [==============================] - 24s 6ms/step - loss: 0.1363 - acc: 0.9412 - val_loss: 0.1839 - val_acc: 0.9030\n",
      "Epoch 15/120\n",
      "3894/3894 [==============================] - 24s 6ms/step - loss: 0.1352 - acc: 0.9348 - val_loss: 0.1708 - val_acc: 0.9192\n",
      "Epoch 16/120\n",
      "3894/3894 [==============================] - 24s 6ms/step - loss: 0.1272 - acc: 0.9414 - val_loss: 0.1998 - val_acc: 0.8984\n",
      "Epoch 17/120\n",
      "3894/3894 [==============================] - 24s 6ms/step - loss: 0.1296 - acc: 0.9379 - val_loss: 0.1853 - val_acc: 0.9215\n",
      "Epoch 18/120\n",
      "3894/3894 [==============================] - 24s 6ms/step - loss: 0.1313 - acc: 0.9399 - val_loss: 0.1683 - val_acc: 0.9145\n",
      "Epoch 19/120\n",
      "3894/3894 [==============================] - 24s 6ms/step - loss: 0.1206 - acc: 0.9409 - val_loss: 0.1670 - val_acc: 0.9145\n",
      "Epoch 20/120\n",
      "3894/3894 [==============================] - 23s 6ms/step - loss: 0.1223 - acc: 0.9435 - val_loss: 0.1762 - val_acc: 0.9122\n",
      "Epoch 21/120\n",
      "3894/3894 [==============================] - 24s 6ms/step - loss: 0.1184 - acc: 0.9427 - val_loss: 0.1816 - val_acc: 0.9284\n",
      "Epoch 22/120\n",
      "3894/3894 [==============================] - 24s 6ms/step - loss: 0.1152 - acc: 0.9435 - val_loss: 0.1837 - val_acc: 0.9145\n",
      "Epoch 23/120\n",
      "3894/3894 [==============================] - 23s 6ms/step - loss: 0.1205 - acc: 0.9407 - val_loss: 0.1827 - val_acc: 0.9192\n",
      "Epoch 24/120\n",
      "3894/3894 [==============================] - 23s 6ms/step - loss: 0.1154 - acc: 0.9420 - val_loss: 0.1543 - val_acc: 0.9169\n",
      "Epoch 25/120\n",
      "3894/3894 [==============================] - 23s 6ms/step - loss: 0.1107 - acc: 0.9450 - val_loss: 0.1711 - val_acc: 0.9122\n",
      "Epoch 26/120\n",
      "3894/3894 [==============================] - 24s 6ms/step - loss: 0.1154 - acc: 0.9414 - val_loss: 0.1725 - val_acc: 0.9192\n",
      "Epoch 27/120\n",
      "3894/3894 [==============================] - 24s 6ms/step - loss: 0.1155 - acc: 0.9420 - val_loss: 0.1502 - val_acc: 0.9145\n",
      "Epoch 28/120\n",
      "3894/3894 [==============================] - 24s 6ms/step - loss: 0.1117 - acc: 0.9474 - val_loss: 0.1965 - val_acc: 0.9145\n",
      "Epoch 29/120\n",
      "3894/3894 [==============================] - 24s 6ms/step - loss: 0.1102 - acc: 0.9456 - val_loss: 0.2103 - val_acc: 0.9192\n",
      "Epoch 30/120\n",
      "3894/3894 [==============================] - 24s 6ms/step - loss: 0.1128 - acc: 0.9435 - val_loss: 0.1682 - val_acc: 0.9169\n",
      "Epoch 31/120\n",
      "3894/3894 [==============================] - 23s 6ms/step - loss: 0.1081 - acc: 0.9438 - val_loss: 0.1644 - val_acc: 0.9122\n",
      "Epoch 32/120\n",
      "3894/3894 [==============================] - 24s 6ms/step - loss: 0.1061 - acc: 0.9448 - val_loss: 0.2111 - val_acc: 0.9192\n",
      "Epoch 33/120\n",
      "3894/3894 [==============================] - 24s 6ms/step - loss: 0.1096 - acc: 0.9474 - val_loss: 0.1545 - val_acc: 0.9192\n",
      "Epoch 34/120\n",
      "3894/3894 [==============================] - 23s 6ms/step - loss: 0.1055 - acc: 0.9445 - val_loss: 0.1787 - val_acc: 0.9169\n",
      "Epoch 35/120\n",
      "3894/3894 [==============================] - 24s 6ms/step - loss: 0.1049 - acc: 0.9468 - val_loss: 0.1989 - val_acc: 0.9261\n",
      "Epoch 36/120\n",
      "3894/3894 [==============================] - 24s 6ms/step - loss: 0.1080 - acc: 0.9445 - val_loss: 0.1518 - val_acc: 0.9076\n",
      "Epoch 37/120\n",
      "3894/3894 [==============================] - 23s 6ms/step - loss: 0.1030 - acc: 0.9497 - val_loss: 0.1638 - val_acc: 0.9169\n",
      "Epoch 38/120\n",
      "3894/3894 [==============================] - 24s 6ms/step - loss: 0.1034 - acc: 0.9448 - val_loss: 0.1761 - val_acc: 0.9169\n",
      "Epoch 39/120\n",
      "3894/3894 [==============================] - 24s 6ms/step - loss: 0.1024 - acc: 0.9409 - val_loss: 0.1537 - val_acc: 0.9122\n",
      "Epoch 40/120\n",
      "3894/3894 [==============================] - 24s 6ms/step - loss: 0.1010 - acc: 0.9450 - val_loss: 0.1619 - val_acc: 0.9099\n",
      "Epoch 41/120\n",
      "3894/3894 [==============================] - 24s 6ms/step - loss: 0.1004 - acc: 0.9466 - val_loss: 0.1981 - val_acc: 0.9192\n",
      "Epoch 42/120\n",
      "3894/3894 [==============================] - 24s 6ms/step - loss: 0.1013 - acc: 0.9471 - val_loss: 0.1681 - val_acc: 0.9145\n",
      "Epoch 43/120\n",
      "3894/3894 [==============================] - 24s 6ms/step - loss: 0.0996 - acc: 0.9432 - val_loss: 0.1825 - val_acc: 0.9169\n",
      "Epoch 44/120\n",
      "3894/3894 [==============================] - 24s 6ms/step - loss: 0.1033 - acc: 0.9445 - val_loss: 0.1724 - val_acc: 0.9169\n",
      "Epoch 45/120\n",
      "3894/3894 [==============================] - 24s 6ms/step - loss: 0.0994 - acc: 0.9471 - val_loss: 0.1508 - val_acc: 0.9145\n",
      "Epoch 46/120\n",
      "3894/3894 [==============================] - 23s 6ms/step - loss: 0.1006 - acc: 0.9461 - val_loss: 0.1590 - val_acc: 0.9122\n",
      "Epoch 47/120\n",
      "3894/3894 [==============================] - 24s 6ms/step - loss: 0.0978 - acc: 0.9471 - val_loss: 0.1642 - val_acc: 0.9215\n",
      "Epoch 48/120\n",
      "3894/3894 [==============================] - 23s 6ms/step - loss: 0.0974 - acc: 0.9486 - val_loss: 0.1701 - val_acc: 0.9169\n",
      "Epoch 49/120\n",
      "3894/3894 [==============================] - 24s 6ms/step - loss: 0.0973 - acc: 0.9479 - val_loss: 0.1775 - val_acc: 0.9192\n",
      "Epoch 50/120\n",
      "3894/3894 [==============================] - 24s 6ms/step - loss: 0.0972 - acc: 0.9468 - val_loss: 0.1910 - val_acc: 0.9238\n",
      "Epoch 51/120\n",
      "3894/3894 [==============================] - 23s 6ms/step - loss: 0.0956 - acc: 0.9474 - val_loss: 0.1569 - val_acc: 0.9192\n",
      "Epoch 52/120\n",
      "3894/3894 [==============================] - 24s 6ms/step - loss: 0.0944 - acc: 0.9489 - val_loss: 0.1712 - val_acc: 0.9099\n",
      "Epoch 53/120\n",
      "3894/3894 [==============================] - 24s 6ms/step - loss: 0.0958 - acc: 0.9489 - val_loss: 0.1693 - val_acc: 0.9122\n",
      "Epoch 54/120\n",
      "3894/3894 [==============================] - 24s 6ms/step - loss: 0.0965 - acc: 0.9468 - val_loss: 0.1514 - val_acc: 0.9169\n",
      "Epoch 55/120\n",
      "3894/3894 [==============================] - 23s 6ms/step - loss: 0.0953 - acc: 0.9448 - val_loss: 0.1520 - val_acc: 0.9099\n",
      "Epoch 56/120\n",
      "3894/3894 [==============================] - 24s 6ms/step - loss: 0.0939 - acc: 0.9486 - val_loss: 0.1560 - val_acc: 0.9076\n",
      "Epoch 57/120\n",
      "3894/3894 [==============================] - 23s 6ms/step - loss: 0.0922 - acc: 0.9479 - val_loss: 0.1638 - val_acc: 0.9099\n",
      "Epoch 58/120\n",
      "3894/3894 [==============================] - 24s 6ms/step - loss: 0.0952 - acc: 0.9463 - val_loss: 0.1854 - val_acc: 0.9169\n",
      "Epoch 59/120\n",
      "3894/3894 [==============================] - 23s 6ms/step - loss: 0.0950 - acc: 0.9450 - val_loss: 0.1835 - val_acc: 0.9192\n",
      "Epoch 60/120\n"
     ]
    },
    {
     "name": "stdout",
     "output_type": "stream",
     "text": [
      "3894/3894 [==============================] - 24s 6ms/step - loss: 0.0931 - acc: 0.9453 - val_loss: 0.1802 - val_acc: 0.9122\n",
      "Epoch 61/120\n",
      "3894/3894 [==============================] - 24s 6ms/step - loss: 0.0913 - acc: 0.9476 - val_loss: 0.1786 - val_acc: 0.9145\n",
      "Epoch 62/120\n",
      "3894/3894 [==============================] - 24s 6ms/step - loss: 0.0911 - acc: 0.9479 - val_loss: 0.1834 - val_acc: 0.9007\n",
      "Epoch 63/120\n",
      "3894/3894 [==============================] - 24s 6ms/step - loss: 0.0933 - acc: 0.9492 - val_loss: 0.1919 - val_acc: 0.9030\n",
      "Epoch 64/120\n",
      "3894/3894 [==============================] - 24s 6ms/step - loss: 0.0917 - acc: 0.9479 - val_loss: 0.1632 - val_acc: 0.9192\n",
      "Epoch 65/120\n",
      "3894/3894 [==============================] - 24s 6ms/step - loss: 0.0911 - acc: 0.9479 - val_loss: 0.1657 - val_acc: 0.9053\n",
      "Epoch 66/120\n",
      "3894/3894 [==============================] - 24s 6ms/step - loss: 0.0925 - acc: 0.9486 - val_loss: 0.1620 - val_acc: 0.9145\n",
      "Epoch 67/120\n",
      "3894/3894 [==============================] - 23s 6ms/step - loss: 0.0904 - acc: 0.9484 - val_loss: 0.1677 - val_acc: 0.9099\n",
      "Epoch 68/120\n",
      "3894/3894 [==============================] - 23s 6ms/step - loss: 0.0902 - acc: 0.9468 - val_loss: 0.1679 - val_acc: 0.9099\n",
      "Epoch 69/120\n",
      "3894/3894 [==============================] - 24s 6ms/step - loss: 0.0892 - acc: 0.9471 - val_loss: 0.1730 - val_acc: 0.9169\n",
      "Epoch 70/120\n",
      "3894/3894 [==============================] - 24s 6ms/step - loss: 0.0882 - acc: 0.9510 - val_loss: 0.2089 - val_acc: 0.9076\n",
      "Epoch 71/120\n",
      "3894/3894 [==============================] - 23s 6ms/step - loss: 0.0898 - acc: 0.9458 - val_loss: 0.1791 - val_acc: 0.9145\n",
      "Epoch 72/120\n",
      "3894/3894 [==============================] - 24s 6ms/step - loss: 0.0874 - acc: 0.9484 - val_loss: 0.1719 - val_acc: 0.9076\n",
      "Epoch 73/120\n",
      "3894/3894 [==============================] - 24s 6ms/step - loss: 0.0879 - acc: 0.9461 - val_loss: 0.1894 - val_acc: 0.9076\n",
      "Epoch 74/120\n",
      "3894/3894 [==============================] - 24s 6ms/step - loss: 0.0902 - acc: 0.9461 - val_loss: 0.1910 - val_acc: 0.9030\n",
      "Epoch 75/120\n",
      "3894/3894 [==============================] - 24s 6ms/step - loss: 0.0883 - acc: 0.9481 - val_loss: 0.1889 - val_acc: 0.9122\n",
      "Epoch 76/120\n",
      "3894/3894 [==============================] - 24s 6ms/step - loss: 0.0879 - acc: 0.9499 - val_loss: 0.1929 - val_acc: 0.9122\n",
      "Epoch 77/120\n",
      "3894/3894 [==============================] - 24s 6ms/step - loss: 0.0887 - acc: 0.9492 - val_loss: 0.1664 - val_acc: 0.9076\n",
      "Epoch 78/120\n",
      "3894/3894 [==============================] - 24s 6ms/step - loss: 0.0884 - acc: 0.9474 - val_loss: 0.1748 - val_acc: 0.9076\n",
      "Epoch 79/120\n",
      "3894/3894 [==============================] - 24s 6ms/step - loss: 0.0888 - acc: 0.9486 - val_loss: 0.1893 - val_acc: 0.9169\n",
      "Epoch 80/120\n",
      "3894/3894 [==============================] - 24s 6ms/step - loss: 0.0855 - acc: 0.9512 - val_loss: 0.1992 - val_acc: 0.9122\n",
      "Epoch 81/120\n",
      "3894/3894 [==============================] - 23s 6ms/step - loss: 0.0865 - acc: 0.9453 - val_loss: 0.1741 - val_acc: 0.9099\n",
      "Epoch 82/120\n",
      "3894/3894 [==============================] - 24s 6ms/step - loss: 0.0868 - acc: 0.9484 - val_loss: 0.1796 - val_acc: 0.9122\n",
      "Epoch 83/120\n",
      "3894/3894 [==============================] - 23s 6ms/step - loss: 0.0878 - acc: 0.9466 - val_loss: 0.1921 - val_acc: 0.9169\n",
      "Epoch 84/120\n",
      "3894/3894 [==============================] - 23s 6ms/step - loss: 0.0845 - acc: 0.9515 - val_loss: 0.2377 - val_acc: 0.9099\n",
      "Epoch 85/120\n",
      "3894/3894 [==============================] - 24s 6ms/step - loss: 0.0865 - acc: 0.9463 - val_loss: 0.2290 - val_acc: 0.9215\n",
      "Epoch 86/120\n",
      "3894/3894 [==============================] - 24s 6ms/step - loss: 0.0859 - acc: 0.9450 - val_loss: 0.1741 - val_acc: 0.9169\n",
      "Epoch 87/120\n",
      "3894/3894 [==============================] - 24s 6ms/step - loss: 0.0845 - acc: 0.9494 - val_loss: 0.2426 - val_acc: 0.9030\n",
      "Epoch 88/120\n",
      "3894/3894 [==============================] - 24s 6ms/step - loss: 0.0865 - acc: 0.9474 - val_loss: 0.2215 - val_acc: 0.9192\n",
      "Epoch 89/120\n",
      "3894/3894 [==============================] - 24s 6ms/step - loss: 0.0859 - acc: 0.9497 - val_loss: 0.1996 - val_acc: 0.9030\n",
      "Epoch 90/120\n",
      "3894/3894 [==============================] - 23s 6ms/step - loss: 0.0862 - acc: 0.9445 - val_loss: 0.1725 - val_acc: 0.9122\n",
      "Epoch 91/120\n",
      "3894/3894 [==============================] - 24s 6ms/step - loss: 0.0851 - acc: 0.9499 - val_loss: 0.1999 - val_acc: 0.9215\n",
      "Epoch 92/120\n",
      "3894/3894 [==============================] - 24s 6ms/step - loss: 0.0840 - acc: 0.9489 - val_loss: 0.2021 - val_acc: 0.9030\n",
      "Epoch 93/120\n",
      "3894/3894 [==============================] - 24s 6ms/step - loss: 0.0860 - acc: 0.9476 - val_loss: 0.2490 - val_acc: 0.9169\n",
      "Epoch 94/120\n",
      "3894/3894 [==============================] - 24s 6ms/step - loss: 0.0851 - acc: 0.9486 - val_loss: 0.2112 - val_acc: 0.9030\n",
      "Epoch 95/120\n",
      "3894/3894 [==============================] - 24s 6ms/step - loss: 0.0837 - acc: 0.9456 - val_loss: 0.2113 - val_acc: 0.9007\n",
      "Epoch 96/120\n",
      "3894/3894 [==============================] - 23s 6ms/step - loss: 0.0847 - acc: 0.9489 - val_loss: 0.2105 - val_acc: 0.9145\n",
      "Epoch 97/120\n",
      "3894/3894 [==============================] - 23s 6ms/step - loss: 0.0844 - acc: 0.9486 - val_loss: 0.2599 - val_acc: 0.9076\n",
      "Epoch 98/120\n",
      "3894/3894 [==============================] - 24s 6ms/step - loss: 0.0829 - acc: 0.9479 - val_loss: 0.2445 - val_acc: 0.9099\n",
      "Epoch 99/120\n",
      "3894/3894 [==============================] - 23s 6ms/step - loss: 0.0840 - acc: 0.9504 - val_loss: 0.2065 - val_acc: 0.9122\n",
      "Epoch 100/120\n",
      "3894/3894 [==============================] - 24s 6ms/step - loss: 0.0834 - acc: 0.9484 - val_loss: 0.1987 - val_acc: 0.9099\n",
      "Epoch 101/120\n",
      "3894/3894 [==============================] - 23s 6ms/step - loss: 0.0838 - acc: 0.9479 - val_loss: 0.2022 - val_acc: 0.9169\n",
      "Epoch 102/120\n",
      "3894/3894 [==============================] - 23s 6ms/step - loss: 0.0833 - acc: 0.9497 - val_loss: 0.2050 - val_acc: 0.9099\n",
      "Epoch 103/120\n",
      "3894/3894 [==============================] - 24s 6ms/step - loss: 0.0824 - acc: 0.9494 - val_loss: 0.1766 - val_acc: 0.9053\n",
      "Epoch 104/120\n",
      "3894/3894 [==============================] - 24s 6ms/step - loss: 0.0837 - acc: 0.9474 - val_loss: 0.1674 - val_acc: 0.9169\n",
      "Epoch 105/120\n",
      "3894/3894 [==============================] - 24s 6ms/step - loss: 0.0827 - acc: 0.9466 - val_loss: 0.2113 - val_acc: 0.9076\n",
      "Epoch 106/120\n",
      "3894/3894 [==============================] - 24s 6ms/step - loss: 0.0840 - acc: 0.9507 - val_loss: 0.1894 - val_acc: 0.9122\n",
      "Epoch 107/120\n",
      "3894/3894 [==============================] - 23s 6ms/step - loss: 0.0835 - acc: 0.9486 - val_loss: 0.2268 - val_acc: 0.9145\n",
      "Epoch 108/120\n",
      "3894/3894 [==============================] - 24s 6ms/step - loss: 0.0828 - acc: 0.9486 - val_loss: 0.1851 - val_acc: 0.9053\n",
      "Epoch 109/120\n",
      "3894/3894 [==============================] - 24s 6ms/step - loss: 0.0822 - acc: 0.9486 - val_loss: 0.1907 - val_acc: 0.9030\n",
      "Epoch 110/120\n",
      "3894/3894 [==============================] - 24s 6ms/step - loss: 0.0813 - acc: 0.9466 - val_loss: 0.1908 - val_acc: 0.9030\n",
      "Epoch 111/120\n",
      "3894/3894 [==============================] - 24s 6ms/step - loss: 0.0820 - acc: 0.9522 - val_loss: 0.2015 - val_acc: 0.9215\n",
      "Epoch 112/120\n",
      "3894/3894 [==============================] - 24s 6ms/step - loss: 0.0825 - acc: 0.9494 - val_loss: 0.2025 - val_acc: 0.9007\n",
      "Epoch 113/120\n",
      "3894/3894 [==============================] - 24s 6ms/step - loss: 0.0824 - acc: 0.9471 - val_loss: 0.2218 - val_acc: 0.9099\n",
      "Epoch 114/120\n",
      "3894/3894 [==============================] - 24s 6ms/step - loss: 0.0818 - acc: 0.9463 - val_loss: 0.2397 - val_acc: 0.9076\n",
      "Epoch 115/120\n",
      "3894/3894 [==============================] - 23s 6ms/step - loss: 0.0823 - acc: 0.9492 - val_loss: 0.2205 - val_acc: 0.9053\n",
      "Epoch 116/120\n",
      "3894/3894 [==============================] - 24s 6ms/step - loss: 0.0815 - acc: 0.9489 - val_loss: 0.1942 - val_acc: 0.9053\n",
      "Epoch 117/120\n",
      "3894/3894 [==============================] - 24s 6ms/step - loss: 0.0810 - acc: 0.9502 - val_loss: 0.2256 - val_acc: 0.9030\n",
      "Epoch 118/120\n",
      "3894/3894 [==============================] - 23s 6ms/step - loss: 0.0814 - acc: 0.9492 - val_loss: 0.2523 - val_acc: 0.9099\n",
      "Epoch 119/120\n",
      "3894/3894 [==============================] - 24s 6ms/step - loss: 0.0822 - acc: 0.9479 - val_loss: 0.2615 - val_acc: 0.9099\n"
     ]
    },
    {
     "name": "stdout",
     "output_type": "stream",
     "text": [
      "Epoch 120/120\n",
      "3894/3894 [==============================] - 24s 6ms/step - loss: 0.0827 - acc: 0.9494 - val_loss: 0.1879 - val_acc: 0.9076\n"
     ]
    },
    {
     "data": {
      "text/plain": [
       "<keras.callbacks.History at 0x7f6cfc4de978>"
      ]
     },
     "execution_count": 34,
     "metadata": {},
     "output_type": "execute_result"
    }
   ],
   "source": [
    "# training on all data we have, ignoring train and test sets\n",
    "parallel_model.fit(X, y, \n",
    "                   epochs=120, batch_size=64, validation_split=0.1)\n"
   ]
  },
  {
   "cell_type": "code",
   "execution_count": null,
   "metadata": {},
   "outputs": [],
   "source": [
    "#score = parallel_model.evaluate(X_test, y_test)"
   ]
  },
  {
   "cell_type": "code",
   "execution_count": null,
   "metadata": {},
   "outputs": [],
   "source": [
    "#for i in range(0, len(score)):\n",
    "#    print(parallel_model.metrics_names[i] + \" : \" + str(score[i]) + \"\\n\")"
   ]
  },
  {
   "cell_type": "code",
   "execution_count": 31,
   "metadata": {},
   "outputs": [],
   "source": [
    "#del model\n",
    "#del parallel_model"
   ]
  },
  {
   "cell_type": "code",
   "execution_count": 39,
   "metadata": {},
   "outputs": [],
   "source": [
    "parallel_model.save('varian_CT_cnn.h5')"
   ]
  }
 ],
 "metadata": {
  "kernelspec": {
   "display_name": "Python 3",
   "language": "python",
   "name": "python3"
  },
  "language_info": {
   "codemirror_mode": {
    "name": "ipython",
    "version": 3
   },
   "file_extension": ".py",
   "mimetype": "text/x-python",
   "name": "python",
   "nbconvert_exporter": "python",
   "pygments_lexer": "ipython3",
   "version": "3.6.6"
  }
 },
 "nbformat": 4,
 "nbformat_minor": 2
}
