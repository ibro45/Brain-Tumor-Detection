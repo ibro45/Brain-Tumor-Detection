{
 "cells": [
  {
   "cell_type": "code",
   "execution_count": 1,
   "metadata": {},
   "outputs": [
    {
     "name": "stderr",
     "output_type": "stream",
     "text": [
      "Using TensorFlow backend.\n"
     ]
    }
   ],
   "source": [
    "import cv2\n",
    "import numpy as np\n",
    "import matplotlib.pyplot as plt\n",
    "import pydicom as pdicom\n",
    "import os\n",
    "import pandas as pd\n",
    "import numpy as np\n",
    "from tqdm import tqdm\n",
    "\n",
    "from PIL import Image\n",
    "from collections import Counter, defaultdict\n",
    "from natsort import natsorted\n",
    "\n",
    "import keras\n",
    "from keras.preprocessing.image import array_to_img\n",
    "\n",
    "# from utils import clean_slice, sort_paths"
   ]
  },
  {
   "cell_type": "code",
   "execution_count": 2,
   "metadata": {},
   "outputs": [
    {
     "name": "stdout",
     "output_type": "stream",
     "text": [
      "Number of all files:  8122\n",
      "Number of CT files:  2860\n"
     ]
    }
   ],
   "source": [
    "#list all dicom images\n",
    "dicom_path = \"Dataset\"\n",
    "lstFilesDCM = []  # create an empty list\n",
    "for dirName, subdirList, fileList in os.walk(dicom_path):\n",
    "    for filename in fileList:\n",
    "        if \".dcm\" in filename.lower():  # check whether the file's DICOM\n",
    "            lstFilesDCM.append(os.path.join(dirName,filename))\n",
    "            #print(lstFilesDCM)\n",
    "natsorted(lstFilesDCM)\n",
    "print(\"Number of all files: \", len(lstFilesDCM))\n",
    "\n",
    "ct_paths = []\n",
    "for e in lstFilesDCM:\n",
    "    if e.split('/')[-1][:2]==\"CT\":\n",
    "        ct_paths.append(e)\n",
    "        \n",
    "print(\"Number of CT files: \", len(ct_paths))\n",
    "    "
   ]
  },
  {
   "cell_type": "code",
   "execution_count": 3,
   "metadata": {
    "scrolled": true
   },
   "outputs": [
    {
     "name": "stdout",
     "output_type": "stream",
     "text": [
      "(0008, 0005) Specific Character Set              CS: 'ISO_IR 192'\n",
      "(0008, 0008) Image Type                          CS: ['ORIGINAL', 'PRIMARY', 'AXIAL', 'CT_SOM5 SPI']\n",
      "(0008, 0012) Instance Creation Date              DA: '20181018'\n",
      "(0008, 0013) Instance Creation Time              TM: '070123'\n",
      "(0008, 0016) SOP Class UID                       UI: CT Image Storage\n",
      "(0008, 0018) SOP Instance UID                    UI: 1.3.12.2.1107.5.1.4.65763.30000017071308013339600001230\n",
      "(0008, 0020) Study Date                          DA: '20170713'\n",
      "(0008, 0021) Series Date                         DA: '20170713'\n",
      "(0008, 0022) Acquisition Date                    DA: '20170713'\n",
      "(0008, 0023) Content Date                        DA: '20170713'\n",
      "(0008, 0030) Study Time                          TM: '110508.577'\n",
      "(0008, 0031) Series Time                         TM: '111434.29'\n",
      "(0008, 0032) Acquisition Time                    TM: '111425.167'\n",
      "(0008, 0033) Content Time                        TM: '111425.167'\n",
      "(0008, 0050) Accession Number                    SH: ''\n",
      "(0008, 0060) Modality                            CS: 'CT'\n",
      "(0008, 0070) Manufacturer                        LO: 'SIEMENS'\n",
      "(0008, 0080) Institution Name                    LO: '                           '\n",
      "(0008, 0090) Referring Physician's Name          PN: ''\n",
      "(0008, 1010) Station Name                        SH: '         '\n",
      "(0008, 1030) Study Description                   LO: 'Head^Stereo (Adult)'\n",
      "(0008, 103e) Series Description                  LO: 'Head  2.0  H31s'\n",
      "(0008, 1048) Physician(s) of Record              PN: 'Bajcsay^Andras'\n",
      "(0008, 1090) Manufacturer's Model Name           LO: 'SOMATOM Definition AS'\n",
      "(0008, 3010) Irradiation Event UID               UI: 1.3.12.2.1107.5.1.4.65763.30000017071307545684700000023\n",
      "(0010, 0010) Patient's Name                      PN: '030\\x00files sc'\n",
      "(0010, 0020) Patient ID                          LO: '030\\x00fi'\n",
      "(0010, 0030) Patient's Birth Date                DA: '19500210'\n",
      "(0010, 0032) Patient's Birth Time                TM: '000000'\n",
      "(0010, 0040) Patient's Sex                       CS: 'M'\n",
      "(0010, 1000) Other Patient IDs                   LO: 'C7930'\n",
      "(0018, 0015) Body Part Examined                  CS: 'HEAD'\n",
      "(0018, 0050) Slice Thickness                     DS: \"2\"\n",
      "(0018, 0060) KVP                                 DS: \"140\"\n",
      "(0018, 0090) Data Collection Diameter            DS: \"500\"\n",
      "(0018, 1000) Device Serial Number                LO: '65763'\n",
      "(0018, 1020) Software Version(s)                 LO: 'syngo CT VA48A'\n",
      "(0018, 1100) Reconstruction Diameter             DS: \"300\"\n",
      "(0018, 1110) Distance Source to Detector         DS: \"1085.6\"\n",
      "(0018, 1111) Distance Source to Patient          DS: \"595\"\n",
      "(0018, 1120) Gantry/Detector Tilt                DS: \"0\"\n",
      "(0018, 1130) Table Height                        DS: \"273\"\n",
      "(0018, 1140) Rotation Direction                  CS: 'CW'\n",
      "(0018, 1150) Exposure Time                       IS: \"1000\"\n",
      "(0018, 1151) X-Ray Tube Current                  IS: \"193\"\n",
      "(0018, 1152) Exposure                            IS: \"350\"\n",
      "(0018, 1160) Filter Type                         SH: 'FLAT'\n",
      "(0018, 1170) Generator Power                     IS: \"27\"\n",
      "(0018, 1190) Focal Spot(s)                       DS: \"1.2\"\n",
      "(0018, 1210) Convolution Kernel                  SH: 'H31s'\n",
      "(0018, 5100) Patient Position                    CS: 'HFS'\n",
      "(0020, 000d) Study Instance UID                  UI: 1.3.12.2.1107.5.1.4.65763.30000017071207051234500000028\n",
      "(0020, 000e) Series Instance UID                 UI: 1.3.12.2.1107.5.1.4.65763.30000017071308013339600001167\n",
      "(0020, 0010) Study ID                            SH: '1'\n",
      "(0020, 0011) Series Number                       IS: \"2\"\n",
      "(0020, 0012) Acquisition Number                  IS: \"2\"\n",
      "(0020, 0013) Instance Number                     IS: \"63\"\n",
      "(0020, 0032) Image Position (Patient)            DS: ['-149.70703125', '-422.70703125', '994']\n",
      "(0020, 0037) Image Orientation (Patient)         DS: ['1', '0', '0', '0', '1', '0']\n",
      "(0020, 0052) Frame of Reference UID              UI: 1.3.12.2.1107.5.1.4.65763.30000017071307545684700000021\n",
      "(0020, 1040) Position Reference Indicator        LO: ''\n",
      "(0020, 1041) Slice Location                      DS: \"994\"\n",
      "(0020, 4000) Image Comments                      LT: 'STEREOTAXIA NATIV\\r\\nDR.BAJCSAY'\n",
      "(0028, 0002) Samples per Pixel                   US: 1\n",
      "(0028, 0004) Photometric Interpretation          CS: 'MONOCHROME2'\n",
      "(0028, 0010) Rows                                US: 512\n",
      "(0028, 0011) Columns                             US: 512\n",
      "(0028, 0030) Pixel Spacing                       DS: ['0.5859375', '0.5859375']\n",
      "(0028, 0100) Bits Allocated                      US: 16\n",
      "(0028, 0101) Bits Stored                         US: 12\n",
      "(0028, 0102) High Bit                            US: 11\n",
      "(0028, 0103) Pixel Representation                US: 0\n",
      "(0028, 1050) Window Center                       DS: \"35\"\n",
      "(0028, 1051) Window Width                        DS: \"80\"\n",
      "(0028, 1052) Rescale Intercept                   DS: \"-1000\"\n",
      "(0028, 1053) Rescale Slope                       DS: \"1\"\n",
      "(0028, 1054) Rescale Type                        LO: 'HU'\n",
      "(7fe0, 0010) Pixel Data                          OW: Array of 524288 bytes\n"
     ]
    }
   ],
   "source": [
    "RefDs = pdicom.read_file(ct_paths[0])\n",
    "print(RefDs)\n",
    "\n",
    "# RefDsList = []\n",
    "# for elem in ct_paths:\n",
    "#     RefDsList.append(pdicom.read_file(elem))\n",
    "    \n",
    "# RefDsList"
   ]
  },
  {
   "cell_type": "code",
   "execution_count": 4,
   "metadata": {
    "scrolled": true
   },
   "outputs": [
    {
     "name": "stderr",
     "output_type": "stream",
     "text": [
      "100%|██████████| 2860/2860 [00:14<00:00, 194.74it/s]"
     ]
    },
    {
     "name": "stdout",
     "output_type": "stream",
     "text": [
      "2860\n"
     ]
    },
    {
     "name": "stderr",
     "output_type": "stream",
     "text": [
      "\n"
     ]
    },
    {
     "data": {
      "text/plain": [
       "Counter({(512, 512): 2860})"
      ]
     },
     "execution_count": 4,
     "metadata": {},
     "output_type": "execute_result"
    }
   ],
   "source": [
    "arr_shapes = []\n",
    "d = dict()\n",
    "# loop through all the DICOM files\n",
    "for filenameDCM in tqdm(ct_paths):\n",
    "    if \"Image\" not in filenameDCM:\n",
    "        continue\n",
    "    # read the file\n",
    "    ds = pdicom.read_file(filenameDCM)\n",
    "    arr_shapes.append(ds.pixel_array.shape)\n",
    "    shape = ds.pixel_array.shape\n",
    "    if shape in d.keys():\n",
    "        d[shape].append(filenameDCM)\n",
    "    else:\n",
    "        d[shape] = [filenameDCM]\n",
    "print(len(arr_shapes))\n",
    "Counter(arr_shapes)"
   ]
  },
  {
   "cell_type": "code",
   "execution_count": 5,
   "metadata": {},
   "outputs": [],
   "source": [
    "from typing import List\n",
    "def sort_paths(paths: List[str]) -> List[str]:  \n",
    "    \"\"\"Augmented natural sorting to group together brain slices\"\"\"\n",
    "    ct_paths_sorted = natsorted(paths)\n",
    "    curr_patient_id = ct_paths_sorted[0].split('/')[-2]\n",
    "    fst = []\n",
    "    snd = defaultdict(list)\n",
    "    ct_sorted = []\n",
    "    for i in range(len(ct_paths_sorted)-1):\n",
    "        patient_id = ct_paths_sorted[i].split('/')[-2]\n",
    "        if patient_id!=curr_patient_id:\n",
    "            ct_sorted += fst \n",
    "            for scan_id in sorted(snd.keys()):\n",
    "                ct_sorted += snd[scan_id]\n",
    "            fst = []\n",
    "            snd = defaultdict(list)\n",
    "            curr_patient_id = patient_id\n",
    "            \n",
    "        if '_' in ct_paths_sorted[i].split('/')[-1]:\n",
    "            scan_id = ct_paths_sorted[i].split('/')[-1].split('_')[-1]\n",
    "            snd[scan_id].append(ct_paths_sorted[i])\n",
    "        else:\n",
    "            fst.append(ct_paths_sorted[i])\n",
    "\n",
    "    ct_sorted += fst\n",
    "    for scan_id in sorted(snd.keys()):\n",
    "        ct_sorted += snd[scan_id]\n",
    "\n",
    "    return ct_sorted\n",
    "\n",
    "ct_paths_sorted = sort_paths(d[(512,512)])"
   ]
  },
  {
   "cell_type": "code",
   "execution_count": 6,
   "metadata": {
    "scrolled": true
   },
   "outputs": [
    {
     "data": {
      "text/plain": [
       "Counter({'339663': 77,\n",
       "         '345923': 72,\n",
       "         '346231': 69,\n",
       "         '351423': 170,\n",
       "         '353891': 65,\n",
       "         '354152': 75,\n",
       "         '361113': 68,\n",
       "         '362946': 65,\n",
       "         '363578': 73,\n",
       "         '363740': 69,\n",
       "         '378104': 118,\n",
       "         '379682': 386,\n",
       "         '380225': 77,\n",
       "         '380677': 61,\n",
       "         '383593': 270,\n",
       "         '385185': 71,\n",
       "         '385948': 70,\n",
       "         '386346': 76,\n",
       "         '386348': 133,\n",
       "         '386661': 71,\n",
       "         '386662': 70,\n",
       "         '386800': 82,\n",
       "         '386801': 77,\n",
       "         '387098': 66,\n",
       "         '387295': 67,\n",
       "         '387404': 66,\n",
       "         '387607': 72,\n",
       "         '387719': 74,\n",
       "         '387722': 73,\n",
       "         '388070': 76})"
      ]
     },
     "execution_count": 6,
     "metadata": {},
     "output_type": "execute_result"
    }
   ],
   "source": [
    "slice2brain_id = []\n",
    "for e in ct_paths_sorted:\n",
    "    slice2brain_id.append(e.split('/')[-2])\n",
    "Counter(slice2brain_id)"
   ]
  },
  {
   "cell_type": "code",
   "execution_count": 7,
   "metadata": {},
   "outputs": [
    {
     "name": "stderr",
     "output_type": "stream",
     "text": [
      "100%|██████████| 2859/2859 [00:22<00:00, 129.71it/s]\n"
     ]
    },
    {
     "data": {
      "text/plain": [
       "512"
      ]
     },
     "execution_count": 7,
     "metadata": {},
     "output_type": "execute_result"
    }
   ],
   "source": [
    "arr = np.zeros((512, 512, len(ct_paths_sorted)))\n",
    "\n",
    "for i in tqdm(range(len(ct_paths_sorted))):\n",
    "    ds = pdicom.read_file(ct_paths_sorted[i]) \n",
    "    arr[:, :, i] = ds.pixel_array \n",
    "#     break\n",
    "len(arr)"
   ]
  },
  {
   "cell_type": "code",
   "execution_count": 8,
   "metadata": {},
   "outputs": [
    {
     "name": "stdout",
     "output_type": "stream",
     "text": [
      "float64\n",
      "(512, 512, 2859)\n",
      "8000.0\n",
      "0.0\n",
      "mean:  251.95584692059384\n",
      "n pixels less than 5:  476731411\n",
      "n pixels more than 5:  272738285\n",
      "mean of pixels greater than 5:  754.4710159943102\n"
     ]
    },
    {
     "ename": "MemoryError",
     "evalue": "",
     "output_type": "error",
     "traceback": [
      "\u001b[0;31m---------------------------------------------------------------------------\u001b[0m",
      "\u001b[0;31mMemoryError\u001b[0m                               Traceback (most recent call last)",
      "\u001b[0;32m<ipython-input-8-3507464212ce>\u001b[0m in \u001b[0;36m<module>\u001b[0;34m\u001b[0m\n\u001b[1;32m      7\u001b[0m \u001b[0mprint\u001b[0m\u001b[0;34m(\u001b[0m\u001b[0;34m\"n pixels more than 5: \"\u001b[0m\u001b[0;34m,\u001b[0m \u001b[0mnp\u001b[0m\u001b[0;34m.\u001b[0m\u001b[0msum\u001b[0m\u001b[0;34m(\u001b[0m\u001b[0marr\u001b[0m\u001b[0;34m>=\u001b[0m\u001b[0;36m5\u001b[0m\u001b[0;34m)\u001b[0m\u001b[0;34m)\u001b[0m\u001b[0;34m\u001b[0m\u001b[0m\n\u001b[1;32m      8\u001b[0m \u001b[0mprint\u001b[0m\u001b[0;34m(\u001b[0m\u001b[0;34m\"mean of pixels greater than 5: \"\u001b[0m\u001b[0;34m,\u001b[0m \u001b[0mnp\u001b[0m\u001b[0;34m.\u001b[0m\u001b[0mmean\u001b[0m\u001b[0;34m(\u001b[0m\u001b[0marr\u001b[0m\u001b[0;34m[\u001b[0m\u001b[0marr\u001b[0m\u001b[0;34m>\u001b[0m\u001b[0;36m5\u001b[0m\u001b[0;34m]\u001b[0m\u001b[0;34m)\u001b[0m\u001b[0;34m)\u001b[0m\u001b[0;34m\u001b[0m\u001b[0m\n\u001b[0;32m----> 9\u001b[0;31m \u001b[0mprint\u001b[0m\u001b[0;34m(\u001b[0m\u001b[0;34m\"std of pixels greater than 5: \"\u001b[0m\u001b[0;34m,\u001b[0m \u001b[0mnp\u001b[0m\u001b[0;34m.\u001b[0m\u001b[0mstd\u001b[0m\u001b[0;34m(\u001b[0m\u001b[0marr\u001b[0m\u001b[0;34m[\u001b[0m\u001b[0marr\u001b[0m\u001b[0;34m>\u001b[0m\u001b[0;36m5\u001b[0m\u001b[0;34m]\u001b[0m\u001b[0;34m)\u001b[0m\u001b[0;34m)\u001b[0m\u001b[0;34m\u001b[0m\u001b[0m\n\u001b[0m",
      "\u001b[0;32m~/.local/lib/python3.5/site-packages/numpy/core/fromnumeric.py\u001b[0m in \u001b[0;36mstd\u001b[0;34m(a, axis, dtype, out, ddof, keepdims)\u001b[0m\n\u001b[1;32m   3073\u001b[0m \u001b[0;34m\u001b[0m\u001b[0m\n\u001b[1;32m   3074\u001b[0m     return _methods._std(a, axis=axis, dtype=dtype, out=out, ddof=ddof,\n\u001b[0;32m-> 3075\u001b[0;31m                          **kwargs)\n\u001b[0m\u001b[1;32m   3076\u001b[0m \u001b[0;34m\u001b[0m\u001b[0m\n\u001b[1;32m   3077\u001b[0m \u001b[0;34m\u001b[0m\u001b[0m\n",
      "\u001b[0;32m~/.local/lib/python3.5/site-packages/numpy/core/_methods.py\u001b[0m in \u001b[0;36m_std\u001b[0;34m(a, axis, dtype, out, ddof, keepdims)\u001b[0m\n\u001b[1;32m    133\u001b[0m \u001b[0;32mdef\u001b[0m \u001b[0m_std\u001b[0m\u001b[0;34m(\u001b[0m\u001b[0ma\u001b[0m\u001b[0;34m,\u001b[0m \u001b[0maxis\u001b[0m\u001b[0;34m=\u001b[0m\u001b[0;32mNone\u001b[0m\u001b[0;34m,\u001b[0m \u001b[0mdtype\u001b[0m\u001b[0;34m=\u001b[0m\u001b[0;32mNone\u001b[0m\u001b[0;34m,\u001b[0m \u001b[0mout\u001b[0m\u001b[0;34m=\u001b[0m\u001b[0;32mNone\u001b[0m\u001b[0;34m,\u001b[0m \u001b[0mddof\u001b[0m\u001b[0;34m=\u001b[0m\u001b[0;36m0\u001b[0m\u001b[0;34m,\u001b[0m \u001b[0mkeepdims\u001b[0m\u001b[0;34m=\u001b[0m\u001b[0;32mFalse\u001b[0m\u001b[0;34m)\u001b[0m\u001b[0;34m:\u001b[0m\u001b[0;34m\u001b[0m\u001b[0m\n\u001b[1;32m    134\u001b[0m     ret = _var(a, axis=axis, dtype=dtype, out=out, ddof=ddof,\n\u001b[0;32m--> 135\u001b[0;31m                keepdims=keepdims)\n\u001b[0m\u001b[1;32m    136\u001b[0m \u001b[0;34m\u001b[0m\u001b[0m\n\u001b[1;32m    137\u001b[0m     \u001b[0;32mif\u001b[0m \u001b[0misinstance\u001b[0m\u001b[0;34m(\u001b[0m\u001b[0mret\u001b[0m\u001b[0;34m,\u001b[0m \u001b[0mmu\u001b[0m\u001b[0;34m.\u001b[0m\u001b[0mndarray\u001b[0m\u001b[0;34m)\u001b[0m\u001b[0;34m:\u001b[0m\u001b[0;34m\u001b[0m\u001b[0m\n",
      "\u001b[0;32m~/.local/lib/python3.5/site-packages/numpy/core/_methods.py\u001b[0m in \u001b[0;36m_var\u001b[0;34m(a, axis, dtype, out, ddof, keepdims)\u001b[0m\n\u001b[1;32m    110\u001b[0m     \u001b[0;31m# Note that x may not be inexact and that we need it to be an array,\u001b[0m\u001b[0;34m\u001b[0m\u001b[0;34m\u001b[0m\u001b[0m\n\u001b[1;32m    111\u001b[0m     \u001b[0;31m# not a scalar.\u001b[0m\u001b[0;34m\u001b[0m\u001b[0;34m\u001b[0m\u001b[0m\n\u001b[0;32m--> 112\u001b[0;31m     \u001b[0mx\u001b[0m \u001b[0;34m=\u001b[0m \u001b[0masanyarray\u001b[0m\u001b[0;34m(\u001b[0m\u001b[0marr\u001b[0m \u001b[0;34m-\u001b[0m \u001b[0marrmean\u001b[0m\u001b[0;34m)\u001b[0m\u001b[0;34m\u001b[0m\u001b[0m\n\u001b[0m\u001b[1;32m    113\u001b[0m     \u001b[0;32mif\u001b[0m \u001b[0missubclass\u001b[0m\u001b[0;34m(\u001b[0m\u001b[0marr\u001b[0m\u001b[0;34m.\u001b[0m\u001b[0mdtype\u001b[0m\u001b[0;34m.\u001b[0m\u001b[0mtype\u001b[0m\u001b[0;34m,\u001b[0m \u001b[0mnt\u001b[0m\u001b[0;34m.\u001b[0m\u001b[0mcomplexfloating\u001b[0m\u001b[0;34m)\u001b[0m\u001b[0;34m:\u001b[0m\u001b[0;34m\u001b[0m\u001b[0m\n\u001b[1;32m    114\u001b[0m         \u001b[0mx\u001b[0m \u001b[0;34m=\u001b[0m \u001b[0mum\u001b[0m\u001b[0;34m.\u001b[0m\u001b[0mmultiply\u001b[0m\u001b[0;34m(\u001b[0m\u001b[0mx\u001b[0m\u001b[0;34m,\u001b[0m \u001b[0mum\u001b[0m\u001b[0;34m.\u001b[0m\u001b[0mconjugate\u001b[0m\u001b[0;34m(\u001b[0m\u001b[0mx\u001b[0m\u001b[0;34m)\u001b[0m\u001b[0;34m,\u001b[0m \u001b[0mout\u001b[0m\u001b[0;34m=\u001b[0m\u001b[0mx\u001b[0m\u001b[0;34m)\u001b[0m\u001b[0;34m.\u001b[0m\u001b[0mreal\u001b[0m\u001b[0;34m\u001b[0m\u001b[0m\n",
      "\u001b[0;31mMemoryError\u001b[0m: "
     ]
    }
   ],
   "source": [
    "print(arr.dtype)\n",
    "print(arr.shape)\n",
    "print(np.max(arr))\n",
    "print(np.min(arr))\n",
    "print(\"mean: \", np.mean(arr))\n",
    "print(\"n pixels less than 5: \", np.sum(arr<5))\n",
    "print(\"n pixels more than 5: \", np.sum(arr>=5))\n",
    "print(\"mean of pixels greater than 5: \", np.mean(arr[arr>5]))\n",
    "print(\"std of pixels greater than 5: \", np.std(arr[arr>5]))"
   ]
  },
  {
   "cell_type": "code",
   "execution_count": null,
   "metadata": {},
   "outputs": [],
   "source": [
    "n_slices_to_plot = 4\n",
    "n_rows = n_slices_to_plot // 4 + 1\n",
    "\n",
    "plt.set_cmap(plt.gray())\n",
    "fig = plt.figure(figsize=(15, 17))\n",
    "for i in range(n_slices_to_plot):\n",
    "    plt.subplot(n_rows, 4, i + 1)\n",
    "    plt.imshow(arr[:,:,i])\n",
    "plt.show()"
   ]
  },
  {
   "cell_type": "code",
   "execution_count": null,
   "metadata": {},
   "outputs": [],
   "source": [
    "# im = array_to_img(ArrayDicom[:,:,1].reshape(512, 512, -1)) \n",
    "# IMG_SIZE = 224      \n",
    "\n",
    "# new_size = tuple([int(x*(float(IMG_SIZE)/max(im.size))) for x in im.size])\n",
    "# im_resized       = im.resize(new_size, Image.ANTIALIAS)\n",
    "# new_im   = Image.new(\"L\", (IMG_SIZE, IMG_SIZE))\n",
    "# new_im.paste(im_resized, \n",
    "#              ((IMG_SIZE-new_size[0])//2,\n",
    "#               (IMG_SIZE-new_size[1])//2))\n",
    "\n",
    "# resized_image = np.array(new_im).reshape(224, 224, 1)\n",
    "# array_to_img(resized_image) "
   ]
  },
  {
   "cell_type": "code",
   "execution_count": null,
   "metadata": {},
   "outputs": [],
   "source": [
    "kernel = np.ones((5,5),np.uint8)\n",
    "img = arr[:,:,7]\n",
    "closing = cv2.morphologyEx(img, cv2.MORPH_CLOSE, kernel)\n",
    "erode = cv2.erode(img, kernel, iterations = 1)\n",
    "# dilation2 = cv2.dilate(closing,kernel,iterations = 1)\n",
    "thres = erode>0\n",
    "thres = np.array(thres, dtype=np.uint8)\n",
    "plt.imshow(closing)\n",
    "plt.show()\n",
    "plt.imshow(erode)\n",
    "plt.show()\n",
    "plt.imshow(thres)"
   ]
  },
  {
   "cell_type": "code",
   "execution_count": null,
   "metadata": {},
   "outputs": [],
   "source": [
    "mask = np.zeros(img.shape,np.uint8)\n",
    "imgg, contours, hier = cv2.findContours(thres,cv2.RETR_LIST,cv2.CHAIN_APPROX_SIMPLE)\n",
    "areas = []\n",
    "for cnt in contours:\n",
    "    areas.append(cv2.contourArea(cnt))\n",
    "\n",
    "index = areas.index(max(areas))\n",
    "cnt = contours[index]\n",
    "mask = cv2.drawContours(mask,[cnt],0,255,-1)\n",
    "plt.imshow(mask)"
   ]
  },
  {
   "cell_type": "code",
   "execution_count": null,
   "metadata": {},
   "outputs": [],
   "source": [
    "def clean_slice(img, erode_iter = 6, dilate_iter = 1):\n",
    "    \"\"\"\n",
    "    too much noise remains -> increase erode_iter\n",
    "    too little brain left -> increase dilate_iter\n",
    "    returns 2D array\n",
    "    \n",
    "    \"\"\"\n",
    "    img = img.copy()\n",
    "    kernel = np.ones((5,5),np.uint8)\n",
    "    if len(img.shape)==3:\n",
    "        img = img[:,:,0]\n",
    "    img_morph = cv2.erode(img, kernel, iterations = erode_iter)\n",
    "    thres = img_morph>0\n",
    "    thres = np.array(thres, dtype=np.uint8)\n",
    "    \n",
    "    mask = np.zeros(thres.shape, np.uint8)\n",
    "    imgg, contours, hier = cv2.findContours(thres,cv2.RETR_LIST,cv2.CHAIN_APPROX_SIMPLE)\n",
    "    areas = []\n",
    "    for cnt in contours:\n",
    "        areas.append(cv2.contourArea(cnt))\n",
    "        \n",
    "    index = areas.index(max(areas))\n",
    "    cnt = contours[index]\n",
    "    mask = cv2.drawContours(mask,[cnt],0,255,-1)\n",
    "    mask = cv2.dilate(mask, kernel,iterations = dilate_iter)\n",
    "    mask = mask>1\n",
    "    img[~mask] = 0\n",
    "    \n",
    "    return img\n",
    "\n",
    "a= clean_slice(img)\n",
    "plt.imshow(a)"
   ]
  },
  {
   "cell_type": "code",
   "execution_count": null,
   "metadata": {},
   "outputs": [],
   "source": [
    "n_slices_to_plot = 4\n",
    "n_rows = n_slices_to_plot // 4 + 1\n",
    "\n",
    "plt.set_cmap(plt.gray())\n",
    "fig = plt.figure(figsize=(15, 17))\n",
    "for i in range(n_slices_to_plot):\n",
    "    plt.subplot(n_rows, 4, i + 1)\n",
    "    img = clean_slice(arr[:,:,i])\n",
    "    plt.imshow(img)\n",
    "plt.show()"
   ]
  },
  {
   "cell_type": "code",
   "execution_count": null,
   "metadata": {
    "scrolled": false
   },
   "outputs": [],
   "source": [
    "j = 0\n",
    "brain_count = 0\n",
    "for i in range(len(ct_paths_sorted)-1):\n",
    "    a = ct_paths_sorted[i].split(\"Image\")[-1].split('.')[0].strip()\n",
    "    b = ct_paths_sorted[i+1].split(\"Image\")[-1].split('.')[0].strip()\n",
    "    new_brain = '_' in b and '_' not in a\n",
    "    if '_' in a:\n",
    "        a = a.split('_')[-2]\n",
    "    if '_' in b:\n",
    "        b = b.split('_')[-2]\n",
    "    a = int(a)\n",
    "    b = int(b)\n",
    "    if a>b or new_brain:\n",
    "        print(\"#\"*12)\n",
    "        print(ct_paths_sorted[i])\n",
    "        print(ct_paths_sorted[i+1])\n",
    "        print(\"number of slices: \", i-j)\n",
    "        j = i\n",
    "        brain_count += 1\n",
    "print(\"number of brain scans: \", brain_count)"
   ]
  },
  {
   "cell_type": "code",
   "execution_count": null,
   "metadata": {},
   "outputs": [],
   "source": []
  }
 ],
 "metadata": {
  "kernelspec": {
   "display_name": "Python 3",
   "language": "python",
   "name": "python3"
  }
 },
 "nbformat": 4,
 "nbformat_minor": 2
}
